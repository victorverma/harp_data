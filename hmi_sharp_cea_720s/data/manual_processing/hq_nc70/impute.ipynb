{
 "cells": [
  {
   "cell_type": "code",
   "execution_count": 1,
   "metadata": {},
   "outputs": [
    {
     "name": "stdout",
     "output_type": "stream",
     "text": [
      "Intel MKL WARNING: Support of Intel(R) Streaming SIMD Extensions 4.2 (Intel(R) SSE4.2) enabled only processors has been deprecated. Intel oneAPI Math Kernel Library 2025.0 will require Intel(R) Advanced Vector Extensions (Intel(R) AVX) instructions.\n",
      "Intel MKL WARNING: Support of Intel(R) Streaming SIMD Extensions 4.2 (Intel(R) SSE4.2) enabled only processors has been deprecated. Intel oneAPI Math Kernel Library 2025.0 will require Intel(R) Advanced Vector Extensions (Intel(R) AVX) instructions.\n"
     ]
    }
   ],
   "source": [
    "import numpy as np\n",
    "import pandas as pd\n",
    "from plotnine import *"
   ]
  },
  {
   "cell_type": "markdown",
   "metadata": {},
   "source": [
    "In this notebook, we use linear interpolation to fill in missing values in the HARP data."
   ]
  },
  {
   "cell_type": "code",
   "execution_count": 2,
   "metadata": {},
   "outputs": [
    {
     "data": {
      "application/vnd.microsoft.datawrangler.viewer.v0+json": {
       "columns": [
        {
         "name": "index",
         "rawType": "int64",
         "type": "integer"
        },
        {
         "name": "HARPNUM",
         "rawType": "Int64",
         "type": "integer"
        },
        {
         "name": "T_REC",
         "rawType": "datetime64[ns, UTC]",
         "type": "unknown"
        },
        {
         "name": "USFLUX",
         "rawType": "float64",
         "type": "float"
        },
        {
         "name": "MEANGAM",
         "rawType": "float64",
         "type": "float"
        },
        {
         "name": "MEANGBT",
         "rawType": "float64",
         "type": "float"
        },
        {
         "name": "MEANGBZ",
         "rawType": "float64",
         "type": "float"
        },
        {
         "name": "MEANGBH",
         "rawType": "float64",
         "type": "float"
        },
        {
         "name": "MEANJZD",
         "rawType": "float64",
         "type": "float"
        },
        {
         "name": "TOTUSJZ",
         "rawType": "float64",
         "type": "float"
        },
        {
         "name": "MEANALP",
         "rawType": "float64",
         "type": "float"
        },
        {
         "name": "MEANJZH",
         "rawType": "float64",
         "type": "float"
        },
        {
         "name": "TOTUSJH",
         "rawType": "float64",
         "type": "float"
        },
        {
         "name": "ABSNJZH",
         "rawType": "float64",
         "type": "float"
        },
        {
         "name": "SAVNCPP",
         "rawType": "float64",
         "type": "float"
        },
        {
         "name": "MEANPOT",
         "rawType": "float64",
         "type": "float"
        },
        {
         "name": "TOTPOT",
         "rawType": "float64",
         "type": "float"
        },
        {
         "name": "MEANSHR",
         "rawType": "float64",
         "type": "float"
        },
        {
         "name": "SHRGT45",
         "rawType": "float64",
         "type": "float"
        },
        {
         "name": "CRLN_OBS",
         "rawType": "float64",
         "type": "float"
        },
        {
         "name": "CRLT_OBS",
         "rawType": "float64",
         "type": "float"
        },
        {
         "name": "CAR_ROT",
         "rawType": "Int64",
         "type": "integer"
        },
        {
         "name": "QUALITY",
         "rawType": "Int64",
         "type": "integer"
        },
        {
         "name": "QUAL_S",
         "rawType": "Int64",
         "type": "integer"
        },
        {
         "name": "QUALLEV1",
         "rawType": "Int64",
         "type": "integer"
        },
        {
         "name": "HISTORY",
         "rawType": "object",
         "type": "string"
        },
        {
         "name": "COMMENT",
         "rawType": "object",
         "type": "string"
        },
        {
         "name": "H_MERGE",
         "rawType": "Int64",
         "type": "integer"
        },
        {
         "name": "H_FAINT",
         "rawType": "Int64",
         "type": "integer"
        },
        {
         "name": "NPIX",
         "rawType": "float64",
         "type": "float"
        },
        {
         "name": "SIZE",
         "rawType": "float64",
         "type": "float"
        },
        {
         "name": "AREA",
         "rawType": "float64",
         "type": "float"
        },
        {
         "name": "NACR",
         "rawType": "float64",
         "type": "float"
        },
        {
         "name": "SIZE_ACR",
         "rawType": "float64",
         "type": "float"
        },
        {
         "name": "AREA_ACR",
         "rawType": "float64",
         "type": "float"
        },
        {
         "name": "LAT_MIN",
         "rawType": "float64",
         "type": "float"
        },
        {
         "name": "LON_MIN",
         "rawType": "float64",
         "type": "float"
        },
        {
         "name": "LAT_MAX",
         "rawType": "float64",
         "type": "float"
        },
        {
         "name": "LON_MAX",
         "rawType": "float64",
         "type": "float"
        },
        {
         "name": "LAT_FWT",
         "rawType": "float64",
         "type": "float"
        },
        {
         "name": "LON_FWT",
         "rawType": "float64",
         "type": "float"
        },
        {
         "name": "LAT_FWTPOS",
         "rawType": "float64",
         "type": "float"
        },
        {
         "name": "LON_FWTPOS",
         "rawType": "float64",
         "type": "float"
        },
        {
         "name": "LAT_FWTNEG",
         "rawType": "float64",
         "type": "float"
        },
        {
         "name": "LON_FWTNEG",
         "rawType": "float64",
         "type": "float"
        },
        {
         "name": "T_FRST1",
         "rawType": "datetime64[ns, UTC]",
         "type": "unknown"
        },
        {
         "name": "T_LAST1",
         "rawType": "datetime64[ns, UTC]",
         "type": "unknown"
        },
        {
         "name": "NOAA_AR",
         "rawType": "Int64",
         "type": "integer"
        },
        {
         "name": "NOAA_NUM",
         "rawType": "Int64",
         "type": "integer"
        },
        {
         "name": "NOAA_ARS",
         "rawType": "object",
         "type": "string"
        }
       ],
       "ref": "b14e48f0-b5f3-4650-95cd-169ca3be210c",
       "rows": [
        [
         "0",
         "1",
         "2010-05-01 14:00:00+00:00",
         "5.827622e+21",
         "23.887",
         "73.347",
         "77.564",
         "31.354",
         "-0.1518264",
         "4860817000000.0",
         "0.00039796",
         "0.00012743",
         "253.948",
         "1.101",
         "700261400000.0",
         "1435.344",
         "1.646767e+22",
         "17.746",
         "1.655",
         "243.569275",
         "-4.121475",
         "2096",
         "0",
         "0",
         "0",
         " ",
         " ",
         "0",
         "0",
         "6214.0",
         "554.527771",
         "1002.941345",
         "431.0",
         "38.461773",
         "68.236092",
         "22.10144",
         "-74.534958",
         "25.642115",
         "-66.018166",
         "23.750633",
         "-69.996475",
         "23.742485",
         "-70.418633",
         "23.80628",
         "-67.113625",
         "2010-05-01 00:00:00+00:00",
         "2010-05-11 16:12:00+00:00",
         "11067",
         "1",
         "11067"
        ],
        [
         "1",
         "1",
         "2010-05-01 14:12:00+00:00",
         "5.76815e+21",
         "24.708",
         "71.97",
         "76.249",
         "31.197",
         "-0.22683525",
         "4908301000000.0",
         "8.137e-05",
         "2.573e-05",
         "252.069",
         "0.222",
         "1044749000000.0",
         "1479.076",
         "1.694583e+22",
         "18.494",
         "2.26",
         "243.459137",
         "-4.121171",
         "2096",
         "0",
         "0",
         "0",
         " ",
         " ",
         "0",
         "0",
         "6251.0",
         "557.817139",
         "1001.87793",
         "437.0",
         "38.996338",
         "69.012444",
         "22.123947",
         "-74.394951",
         "25.64279",
         "-65.896187",
         "23.771694",
         "-69.953972",
         "23.769396",
         "-70.363503",
         "23.788214",
         "-67.011284",
         "2010-05-01 00:00:00+00:00",
         "2010-05-11 16:12:00+00:00",
         "11067",
         "1",
         "11067"
        ],
        [
         "2",
         "1",
         "2010-05-01 14:24:00+00:00",
         "5.865157e+21",
         "25.657",
         "74.254",
         "82.154",
         "32.748",
         "-0.26002339",
         "5577384000000.0",
         "-0.00957323",
         "-0.00287449",
         "262.044",
         "26.106",
         "1806319000000.0",
         "1700.549",
         "2.051083e+22",
         "20.083",
         "4.338",
         "243.348984",
         "-4.120891",
         "2096",
         "0",
         "0",
         "0",
         " ",
         " ",
         "0",
         "0",
         "6286.0",
         "560.930603",
         "1001.542358",
         "432.0",
         "38.549477",
         "67.530121",
         "22.149277",
         "-74.289665",
         "25.659647",
         "-65.770721",
         "23.757574",
         "-69.793488",
         "23.754747",
         "-70.199081",
         "23.777744",
         "-66.899902",
         "2010-05-01 00:00:00+00:00",
         "2010-05-11 16:12:00+00:00",
         "11067",
         "1",
         "11067"
        ],
        [
         "3",
         "1",
         "2010-05-01 14:36:00+00:00",
         "5.854875e+21",
         "25.242",
         "74.539",
         "81.896",
         "33.026",
         "-0.1996403",
         "5290721000000.0",
         "-0.01385247",
         "-0.00424683",
         "257.373",
         "38.064",
         "2733141000000.0",
         "1552.869",
         "1.84842e+22",
         "19.097",
         "3.436",
         "243.238785",
         "-4.120632",
         "2096",
         "0",
         "0",
         "0",
         " ",
         " ",
         "0",
         "0",
         "6312.0",
         "563.241211",
         "998.930847",
         "407.0",
         "36.317993",
         "63.440701",
         "22.157278",
         "-74.155388",
         "25.652056",
         "-65.668182",
         "23.759003",
         "-69.7341",
         "23.757551",
         "-70.166977",
         "23.768915",
         "-66.779518",
         "2010-05-01 00:00:00+00:00",
         "2010-05-11 16:12:00+00:00",
         "11067",
         "1",
         "11067"
        ],
        [
         "4",
         "1",
         "2010-05-01 14:48:00+00:00",
         "5.854465e+21",
         "25.876",
         "75.671",
         "85.297",
         "33.556",
         "-0.40370283",
         "5911234000000.0",
         "-0.01245547",
         "-0.00369359",
         "266.849",
         "34.084",
         "2401030000000.0",
         "1570.732",
         "1.924963e+22",
         "20.672",
         "5.104",
         "243.12854",
         "-4.120392",
         "2096",
         "0",
         "0",
         "0",
         " ",
         " ",
         "0",
         "0",
         "6355.0",
         "567.069214",
         "999.300537",
         "446.0",
         "39.797462",
         "69.040749",
         "22.158302",
         "-74.033058",
         "25.65608",
         "-65.546875",
         "23.729307",
         "-69.602234",
         "23.720182",
         "-70.012299",
         "23.794512",
         "-66.671707",
         "2010-05-01 00:00:00+00:00",
         "2010-05-11 16:12:00+00:00",
         "11067",
         "1",
         "11067"
        ]
       ],
       "shape": {
        "columns": 49,
        "rows": 5
       }
      },
      "text/html": [
       "<div>\n",
       "<style scoped>\n",
       "    .dataframe tbody tr th:only-of-type {\n",
       "        vertical-align: middle;\n",
       "    }\n",
       "\n",
       "    .dataframe tbody tr th {\n",
       "        vertical-align: top;\n",
       "    }\n",
       "\n",
       "    .dataframe thead th {\n",
       "        text-align: right;\n",
       "    }\n",
       "</style>\n",
       "<table border=\"1\" class=\"dataframe\">\n",
       "  <thead>\n",
       "    <tr style=\"text-align: right;\">\n",
       "      <th></th>\n",
       "      <th>HARPNUM</th>\n",
       "      <th>T_REC</th>\n",
       "      <th>USFLUX</th>\n",
       "      <th>MEANGAM</th>\n",
       "      <th>MEANGBT</th>\n",
       "      <th>MEANGBZ</th>\n",
       "      <th>MEANGBH</th>\n",
       "      <th>MEANJZD</th>\n",
       "      <th>TOTUSJZ</th>\n",
       "      <th>MEANALP</th>\n",
       "      <th>...</th>\n",
       "      <th>LON_FWT</th>\n",
       "      <th>LAT_FWTPOS</th>\n",
       "      <th>LON_FWTPOS</th>\n",
       "      <th>LAT_FWTNEG</th>\n",
       "      <th>LON_FWTNEG</th>\n",
       "      <th>T_FRST1</th>\n",
       "      <th>T_LAST1</th>\n",
       "      <th>NOAA_AR</th>\n",
       "      <th>NOAA_NUM</th>\n",
       "      <th>NOAA_ARS</th>\n",
       "    </tr>\n",
       "  </thead>\n",
       "  <tbody>\n",
       "    <tr>\n",
       "      <th>0</th>\n",
       "      <td>1</td>\n",
       "      <td>2010-05-01 14:00:00+00:00</td>\n",
       "      <td>5.827622e+21</td>\n",
       "      <td>23.887</td>\n",
       "      <td>73.347</td>\n",
       "      <td>77.564</td>\n",
       "      <td>31.354</td>\n",
       "      <td>-0.151826</td>\n",
       "      <td>4.860817e+12</td>\n",
       "      <td>0.000398</td>\n",
       "      <td>...</td>\n",
       "      <td>-69.996475</td>\n",
       "      <td>23.742485</td>\n",
       "      <td>-70.418633</td>\n",
       "      <td>23.806280</td>\n",
       "      <td>-67.113625</td>\n",
       "      <td>2010-05-01 00:00:00+00:00</td>\n",
       "      <td>2010-05-11 16:12:00+00:00</td>\n",
       "      <td>11067</td>\n",
       "      <td>1</td>\n",
       "      <td>11067</td>\n",
       "    </tr>\n",
       "    <tr>\n",
       "      <th>1</th>\n",
       "      <td>1</td>\n",
       "      <td>2010-05-01 14:12:00+00:00</td>\n",
       "      <td>5.768150e+21</td>\n",
       "      <td>24.708</td>\n",
       "      <td>71.970</td>\n",
       "      <td>76.249</td>\n",
       "      <td>31.197</td>\n",
       "      <td>-0.226835</td>\n",
       "      <td>4.908301e+12</td>\n",
       "      <td>0.000081</td>\n",
       "      <td>...</td>\n",
       "      <td>-69.953972</td>\n",
       "      <td>23.769396</td>\n",
       "      <td>-70.363503</td>\n",
       "      <td>23.788214</td>\n",
       "      <td>-67.011284</td>\n",
       "      <td>2010-05-01 00:00:00+00:00</td>\n",
       "      <td>2010-05-11 16:12:00+00:00</td>\n",
       "      <td>11067</td>\n",
       "      <td>1</td>\n",
       "      <td>11067</td>\n",
       "    </tr>\n",
       "    <tr>\n",
       "      <th>2</th>\n",
       "      <td>1</td>\n",
       "      <td>2010-05-01 14:24:00+00:00</td>\n",
       "      <td>5.865157e+21</td>\n",
       "      <td>25.657</td>\n",
       "      <td>74.254</td>\n",
       "      <td>82.154</td>\n",
       "      <td>32.748</td>\n",
       "      <td>-0.260023</td>\n",
       "      <td>5.577384e+12</td>\n",
       "      <td>-0.009573</td>\n",
       "      <td>...</td>\n",
       "      <td>-69.793488</td>\n",
       "      <td>23.754747</td>\n",
       "      <td>-70.199081</td>\n",
       "      <td>23.777744</td>\n",
       "      <td>-66.899902</td>\n",
       "      <td>2010-05-01 00:00:00+00:00</td>\n",
       "      <td>2010-05-11 16:12:00+00:00</td>\n",
       "      <td>11067</td>\n",
       "      <td>1</td>\n",
       "      <td>11067</td>\n",
       "    </tr>\n",
       "    <tr>\n",
       "      <th>3</th>\n",
       "      <td>1</td>\n",
       "      <td>2010-05-01 14:36:00+00:00</td>\n",
       "      <td>5.854875e+21</td>\n",
       "      <td>25.242</td>\n",
       "      <td>74.539</td>\n",
       "      <td>81.896</td>\n",
       "      <td>33.026</td>\n",
       "      <td>-0.199640</td>\n",
       "      <td>5.290721e+12</td>\n",
       "      <td>-0.013852</td>\n",
       "      <td>...</td>\n",
       "      <td>-69.734100</td>\n",
       "      <td>23.757551</td>\n",
       "      <td>-70.166977</td>\n",
       "      <td>23.768915</td>\n",
       "      <td>-66.779518</td>\n",
       "      <td>2010-05-01 00:00:00+00:00</td>\n",
       "      <td>2010-05-11 16:12:00+00:00</td>\n",
       "      <td>11067</td>\n",
       "      <td>1</td>\n",
       "      <td>11067</td>\n",
       "    </tr>\n",
       "    <tr>\n",
       "      <th>4</th>\n",
       "      <td>1</td>\n",
       "      <td>2010-05-01 14:48:00+00:00</td>\n",
       "      <td>5.854465e+21</td>\n",
       "      <td>25.876</td>\n",
       "      <td>75.671</td>\n",
       "      <td>85.297</td>\n",
       "      <td>33.556</td>\n",
       "      <td>-0.403703</td>\n",
       "      <td>5.911234e+12</td>\n",
       "      <td>-0.012455</td>\n",
       "      <td>...</td>\n",
       "      <td>-69.602234</td>\n",
       "      <td>23.720182</td>\n",
       "      <td>-70.012299</td>\n",
       "      <td>23.794512</td>\n",
       "      <td>-66.671707</td>\n",
       "      <td>2010-05-01 00:00:00+00:00</td>\n",
       "      <td>2010-05-11 16:12:00+00:00</td>\n",
       "      <td>11067</td>\n",
       "      <td>1</td>\n",
       "      <td>11067</td>\n",
       "    </tr>\n",
       "  </tbody>\n",
       "</table>\n",
       "<p>5 rows × 49 columns</p>\n",
       "</div>"
      ],
      "text/plain": [
       "   HARPNUM                     T_REC        USFLUX  MEANGAM  MEANGBT  MEANGBZ  \\\n",
       "0        1 2010-05-01 14:00:00+00:00  5.827622e+21   23.887   73.347   77.564   \n",
       "1        1 2010-05-01 14:12:00+00:00  5.768150e+21   24.708   71.970   76.249   \n",
       "2        1 2010-05-01 14:24:00+00:00  5.865157e+21   25.657   74.254   82.154   \n",
       "3        1 2010-05-01 14:36:00+00:00  5.854875e+21   25.242   74.539   81.896   \n",
       "4        1 2010-05-01 14:48:00+00:00  5.854465e+21   25.876   75.671   85.297   \n",
       "\n",
       "   MEANGBH   MEANJZD       TOTUSJZ   MEANALP  ...    LON_FWT  LAT_FWTPOS  \\\n",
       "0   31.354 -0.151826  4.860817e+12  0.000398  ... -69.996475   23.742485   \n",
       "1   31.197 -0.226835  4.908301e+12  0.000081  ... -69.953972   23.769396   \n",
       "2   32.748 -0.260023  5.577384e+12 -0.009573  ... -69.793488   23.754747   \n",
       "3   33.026 -0.199640  5.290721e+12 -0.013852  ... -69.734100   23.757551   \n",
       "4   33.556 -0.403703  5.911234e+12 -0.012455  ... -69.602234   23.720182   \n",
       "\n",
       "   LON_FWTPOS  LAT_FWTNEG  LON_FWTNEG                   T_FRST1  \\\n",
       "0  -70.418633   23.806280  -67.113625 2010-05-01 00:00:00+00:00   \n",
       "1  -70.363503   23.788214  -67.011284 2010-05-01 00:00:00+00:00   \n",
       "2  -70.199081   23.777744  -66.899902 2010-05-01 00:00:00+00:00   \n",
       "3  -70.166977   23.768915  -66.779518 2010-05-01 00:00:00+00:00   \n",
       "4  -70.012299   23.794512  -66.671707 2010-05-01 00:00:00+00:00   \n",
       "\n",
       "                    T_LAST1  NOAA_AR  NOAA_NUM  NOAA_ARS  \n",
       "0 2010-05-11 16:12:00+00:00    11067         1     11067  \n",
       "1 2010-05-11 16:12:00+00:00    11067         1     11067  \n",
       "2 2010-05-11 16:12:00+00:00    11067         1     11067  \n",
       "3 2010-05-11 16:12:00+00:00    11067         1     11067  \n",
       "4 2010-05-11 16:12:00+00:00    11067         1     11067  \n",
       "\n",
       "[5 rows x 49 columns]"
      ]
     },
     "execution_count": 2,
     "metadata": {},
     "output_type": "execute_result"
    }
   ],
   "source": [
    "harp_data = pd.read_parquet(\"../../processed/hq_nc70_no.parquet\")\n",
    "harp_data.head()"
   ]
  },
  {
   "cell_type": "markdown",
   "metadata": {},
   "source": [
    "We will fill in missing values in the columns listed below."
   ]
  },
  {
   "cell_type": "code",
   "execution_count": 3,
   "metadata": {},
   "outputs": [],
   "source": [
    "all_predictors = [\n",
    "    # SHARP parameters\n",
    "    \"USFLUX\", \"MEANGAM\", \"MEANGBT\", \"MEANGBZ\", \"MEANGBH\", \"MEANJZD\", \"TOTUSJZ\",\n",
    "    \"MEANALP\", \"MEANJZH\", \"TOTUSJH\", \"ABSNJZH\", \"SAVNCPP\", \"MEANPOT\", \"TOTPOT\",\n",
    "    \"MEANSHR\", \"SHRGT45\",\n",
    "    # Patch areas and pixel counts\n",
    "    \"NPIX\", \"SIZE\", \"AREA\", \"NACR\", \"SIZE_ACR\", \"AREA_ACR\"\n",
    "]"
   ]
  },
  {
   "cell_type": "code",
   "execution_count": 4,
   "metadata": {},
   "outputs": [],
   "source": [
    "no_nas_harp_data = harp_data.copy()\n",
    "no_nas_harp_data[all_predictors] = (\n",
    "    harp_data\n",
    "    .groupby(\"HARPNUM\")[all_predictors]\n",
    "    .apply(lambda df: df.interpolate())\n",
    "    .reset_index(drop=True)\n",
    ")"
   ]
  },
  {
   "cell_type": "markdown",
   "metadata": {},
   "source": [
    "We next separately number records for each HARP, e.g., the `m` records for the first HARP are numbered `0, ..., m - 1`, the `n` records for the second HARP are numbered `0, ..., n - 1`, etc. We also flag records for which at least one predictor still has a missing value. Because of how linear interpolation works, for each HARP, records that are still missing values should be in runs at the start or end."
   ]
  },
  {
   "cell_type": "code",
   "execution_count": 5,
   "metadata": {},
   "outputs": [],
   "source": [
    "no_nas_harp_data[\"index_in_harp\"] = (\n",
    "    no_nas_harp_data.groupby(\"HARPNUM\").cumcount()\n",
    ")\n",
    "no_nas_harp_data[\"are_any_predictors_na\"] = (\n",
    "    no_nas_harp_data[all_predictors].isna().any(axis=1)\n",
    ")"
   ]
  },
  {
   "cell_type": "markdown",
   "metadata": {},
   "source": [
    "The code below verifies that records with missing values are in runs at the start or end. If a record with missing values were in the middle, then the indices of some two complete records would differ by more than one."
   ]
  },
  {
   "cell_type": "code",
   "execution_count": 6,
   "metadata": {},
   "outputs": [
    {
     "data": {
      "text/plain": [
       "False"
      ]
     },
     "execution_count": 6,
     "metadata": {},
     "output_type": "execute_result"
    }
   ],
   "source": [
    "(\n",
    "    no_nas_harp_data\n",
    "    .groupby(\"HARPNUM\")[[\"index_in_harp\", \"are_any_predictors_na\"]]\n",
    "    .apply(lambda df: (df.loc[~df[\"are_any_predictors_na\"], \"index_in_harp\"].diff() > 1).any())\n",
    "    .any()\n",
    ")"
   ]
  },
  {
   "cell_type": "markdown",
   "metadata": {},
   "source": [
    "For the sake of simplicity, we discard records that still have missing values. We also drop columns that are no longer needed."
   ]
  },
  {
   "cell_type": "code",
   "execution_count": 7,
   "metadata": {},
   "outputs": [],
   "source": [
    "no_nas_harp_data = (\n",
    "    no_nas_harp_data[~no_nas_harp_data[\"are_any_predictors_na\"]]\n",
    "    .drop(columns=[\"index_in_harp\", \"are_any_predictors_na\"])\n",
    ")"
   ]
  },
  {
   "cell_type": "markdown",
   "metadata": {},
   "source": [
    "We count records by HARP using both the original data and the new data."
   ]
  },
  {
   "cell_type": "code",
   "execution_count": 8,
   "metadata": {},
   "outputs": [],
   "source": [
    "orig_rec_counts = harp_data.groupby(\"HARPNUM\").size()\n",
    "new_rec_counts = no_nas_harp_data.groupby(\"HARPNUM\").size()\n",
    "all_rec_counts = (\n",
    "    pd.DataFrame({\n",
    "        \"orig_rec_count\": orig_rec_counts, \"new_rec_count\": new_rec_counts\n",
    "    }).reset_index()\n",
    ")\n",
    "all_rec_counts[\"new_rec_count\"] = (\n",
    "    all_rec_counts[\"new_rec_count\"].replace(np.nan, 0).astype(\"int\")\n",
    ")"
   ]
  },
  {
   "cell_type": "markdown",
   "metadata": {},
   "source": [
    "A number of HARPs no longer have any records in the data."
   ]
  },
  {
   "cell_type": "code",
   "execution_count": 9,
   "metadata": {},
   "outputs": [
    {
     "data": {
      "application/vnd.microsoft.datawrangler.viewer.v0+json": {
       "columns": [
        {
         "name": "index",
         "rawType": "int64",
         "type": "integer"
        },
        {
         "name": "HARPNUM",
         "rawType": "Int64",
         "type": "integer"
        },
        {
         "name": "orig_rec_count",
         "rawType": "int64",
         "type": "integer"
        },
        {
         "name": "new_rec_count",
         "rawType": "int64",
         "type": "integer"
        }
       ],
       "ref": "aac33712-fc31-4643-92a6-5f6f435eb7a2",
       "rows": [
        [
         "3620",
         "6715",
         "1333",
         "0"
        ],
        [
         "3588",
         "6666",
         "1321",
         "0"
        ],
        [
         "3516",
         "6537",
         "1318",
         "0"
        ],
        [
         "3590",
         "6670",
         "1307",
         "0"
        ],
        [
         "3522",
         "6550",
         "1301",
         "0"
        ],
        [
         "3847",
         "7107",
         "1291",
         "0"
        ],
        [
         "3627",
         "6731",
         "1288",
         "0"
        ],
        [
         "3734",
         "6910",
         "1286",
         "0"
        ],
        [
         "3658",
         "6794",
         "1279",
         "0"
        ],
        [
         "3698",
         "6863",
         "1277",
         "0"
        ],
        [
         "3657",
         "6789",
         "1277",
         "0"
        ],
        [
         "3759",
         "6952",
         "1276",
         "0"
        ],
        [
         "3844",
         "7100",
         "1270",
         "0"
        ],
        [
         "3660",
         "6798",
         "1267",
         "0"
        ],
        [
         "3614",
         "6703",
         "1265",
         "0"
        ],
        [
         "3585",
         "6662",
         "1262",
         "0"
        ],
        [
         "3613",
         "6699",
         "1258",
         "0"
        ],
        [
         "3526",
         "6558",
         "1255",
         "0"
        ],
        [
         "3496",
         "6505",
         "1253",
         "0"
        ],
        [
         "3530",
         "6566",
         "1253",
         "0"
        ],
        [
         "3587",
         "6664",
         "1251",
         "0"
        ],
        [
         "3687",
         "6838",
         "1250",
         "0"
        ],
        [
         "3505",
         "6515",
         "1248",
         "0"
        ],
        [
         "3648",
         "6769",
         "1241",
         "0"
        ],
        [
         "3680",
         "6829",
         "1239",
         "0"
        ],
        [
         "3494",
         "6500",
         "1235",
         "0"
        ],
        [
         "3643",
         "6759",
         "1228",
         "0"
        ],
        [
         "3617",
         "6711",
         "1225",
         "0"
        ],
        [
         "3509",
         "6523",
         "1219",
         "0"
        ],
        [
         "3625",
         "6728",
         "1214",
         "0"
        ],
        [
         "3745",
         "6930",
         "1207",
         "0"
        ],
        [
         "3662",
         "6803",
         "1201",
         "0"
        ],
        [
         "3757",
         "6950",
         "1201",
         "0"
        ],
        [
         "3547",
         "6599",
         "1199",
         "0"
        ],
        [
         "3704",
         "6870",
         "1198",
         "0"
        ],
        [
         "3512",
         "6532",
         "1191",
         "0"
        ],
        [
         "3498",
         "6507",
         "1187",
         "0"
        ],
        [
         "3738",
         "6920",
         "1174",
         "0"
        ],
        [
         "3694",
         "6846",
         "1172",
         "0"
        ],
        [
         "3568",
         "6632",
         "1168",
         "0"
        ],
        [
         "3764",
         "6961",
         "1167",
         "0"
        ],
        [
         "3581",
         "6657",
         "1164",
         "0"
        ],
        [
         "3755",
         "6946",
         "1163",
         "0"
        ],
        [
         "3633",
         "6745",
         "1161",
         "0"
        ],
        [
         "3630",
         "6737",
         "1149",
         "0"
        ],
        [
         "3611",
         "6695",
         "1148",
         "0"
        ],
        [
         "3758",
         "6951",
         "1148",
         "0"
        ],
        [
         "3664",
         "6806",
         "1145",
         "0"
        ],
        [
         "3663",
         "6804",
         "1142",
         "0"
        ],
        [
         "3574",
         "6648",
         "1137",
         "0"
        ]
       ],
       "shape": {
        "columns": 3,
        "rows": 275
       }
      },
      "text/html": [
       "<div>\n",
       "<style scoped>\n",
       "    .dataframe tbody tr th:only-of-type {\n",
       "        vertical-align: middle;\n",
       "    }\n",
       "\n",
       "    .dataframe tbody tr th {\n",
       "        vertical-align: top;\n",
       "    }\n",
       "\n",
       "    .dataframe thead th {\n",
       "        text-align: right;\n",
       "    }\n",
       "</style>\n",
       "<table border=\"1\" class=\"dataframe\">\n",
       "  <thead>\n",
       "    <tr style=\"text-align: right;\">\n",
       "      <th></th>\n",
       "      <th>HARPNUM</th>\n",
       "      <th>orig_rec_count</th>\n",
       "      <th>new_rec_count</th>\n",
       "    </tr>\n",
       "  </thead>\n",
       "  <tbody>\n",
       "    <tr>\n",
       "      <th>3620</th>\n",
       "      <td>6715</td>\n",
       "      <td>1333</td>\n",
       "      <td>0</td>\n",
       "    </tr>\n",
       "    <tr>\n",
       "      <th>3588</th>\n",
       "      <td>6666</td>\n",
       "      <td>1321</td>\n",
       "      <td>0</td>\n",
       "    </tr>\n",
       "    <tr>\n",
       "      <th>3516</th>\n",
       "      <td>6537</td>\n",
       "      <td>1318</td>\n",
       "      <td>0</td>\n",
       "    </tr>\n",
       "    <tr>\n",
       "      <th>3590</th>\n",
       "      <td>6670</td>\n",
       "      <td>1307</td>\n",
       "      <td>0</td>\n",
       "    </tr>\n",
       "    <tr>\n",
       "      <th>3522</th>\n",
       "      <td>6550</td>\n",
       "      <td>1301</td>\n",
       "      <td>0</td>\n",
       "    </tr>\n",
       "    <tr>\n",
       "      <th>...</th>\n",
       "      <td>...</td>\n",
       "      <td>...</td>\n",
       "      <td>...</td>\n",
       "    </tr>\n",
       "    <tr>\n",
       "      <th>5772</th>\n",
       "      <td>10468</td>\n",
       "      <td>8</td>\n",
       "      <td>0</td>\n",
       "    </tr>\n",
       "    <tr>\n",
       "      <th>3747</th>\n",
       "      <td>6935</td>\n",
       "      <td>6</td>\n",
       "      <td>0</td>\n",
       "    </tr>\n",
       "    <tr>\n",
       "      <th>3528</th>\n",
       "      <td>6561</td>\n",
       "      <td>3</td>\n",
       "      <td>0</td>\n",
       "    </tr>\n",
       "    <tr>\n",
       "      <th>3646</th>\n",
       "      <td>6763</td>\n",
       "      <td>1</td>\n",
       "      <td>0</td>\n",
       "    </tr>\n",
       "    <tr>\n",
       "      <th>3618</th>\n",
       "      <td>6713</td>\n",
       "      <td>1</td>\n",
       "      <td>0</td>\n",
       "    </tr>\n",
       "  </tbody>\n",
       "</table>\n",
       "<p>275 rows × 3 columns</p>\n",
       "</div>"
      ],
      "text/plain": [
       "      HARPNUM  orig_rec_count  new_rec_count\n",
       "3620     6715            1333              0\n",
       "3588     6666            1321              0\n",
       "3516     6537            1318              0\n",
       "3590     6670            1307              0\n",
       "3522     6550            1301              0\n",
       "...       ...             ...            ...\n",
       "5772    10468               8              0\n",
       "3747     6935               6              0\n",
       "3528     6561               3              0\n",
       "3646     6763               1              0\n",
       "3618     6713               1              0\n",
       "\n",
       "[275 rows x 3 columns]"
      ]
     },
     "execution_count": 9,
     "metadata": {},
     "output_type": "execute_result"
    }
   ],
   "source": [
    "all_rec_counts[\n",
    "    all_rec_counts[\"new_rec_count\"] == 0\n",
    "].sort_values(\"orig_rec_count\", ascending=False)"
   ]
  },
  {
   "cell_type": "markdown",
   "metadata": {},
   "source": [
    "For the HARPs that don't have any records in the new dataset, virtually all of their records in the original dataset are of low quality."
   ]
  },
  {
   "cell_type": "code",
   "execution_count": 10,
   "metadata": {},
   "outputs": [
    {
     "data": {
      "application/vnd.microsoft.datawrangler.viewer.v0+json": {
       "columns": [
        {
         "name": "QUALITY",
         "rawType": "Int64",
         "type": "integer"
        },
        {
         "name": "count",
         "rawType": "Int64",
         "type": "integer"
        }
       ],
       "ref": "1994ec34-7dac-43f6-aeb8-c92fb0a9f9d9",
       "rows": [
        [
         "128",
         "153095"
        ],
        [
         "65664",
         "3659"
        ],
        [
         "4224",
         "1555"
        ],
        [
         "32",
         "457"
        ],
        [
         "72832",
         "271"
        ],
        [
         "66688",
         "234"
        ],
        [
         "1152",
         "186"
        ],
        [
         "69760",
         "102"
        ],
        [
         "68736",
         "85"
        ],
        [
         "8320",
         "36"
        ],
        [
         "70784",
         "26"
        ],
        [
         "66592",
         "18"
        ],
        [
         "5248",
         "11"
        ],
        [
         "1056",
         "3"
        ],
        [
         "67616",
         "2"
        ],
        [
         "74880",
         "2"
        ],
        [
         "0",
         "2"
        ],
        [
         "66560",
         "1"
        ],
        [
         "67584",
         "1"
        ],
        [
         "1024",
         "1"
        ]
       ],
       "shape": {
        "columns": 1,
        "rows": 20
       }
      },
      "text/plain": [
       "QUALITY\n",
       "128      153095\n",
       "65664      3659\n",
       "4224       1555\n",
       "32          457\n",
       "72832       271\n",
       "66688       234\n",
       "1152        186\n",
       "69760       102\n",
       "68736        85\n",
       "8320         36\n",
       "70784        26\n",
       "66592        18\n",
       "5248         11\n",
       "1056          3\n",
       "67616         2\n",
       "74880         2\n",
       "0             2\n",
       "66560         1\n",
       "67584         1\n",
       "1024          1\n",
       "Name: count, dtype: Int64"
      ]
     },
     "execution_count": 10,
     "metadata": {},
     "output_type": "execute_result"
    }
   ],
   "source": [
    "no_recs_harps = all_rec_counts.loc[\n",
    "    all_rec_counts[\"new_rec_count\"] == 0, \"HARPNUM\"\n",
    "]\n",
    "harp_data.loc[\n",
    "    harp_data[\"HARPNUM\"].isin(no_recs_harps), \"QUALITY\"\n",
    "].value_counts()"
   ]
  },
  {
   "cell_type": "markdown",
   "metadata": {},
   "source": [
    "We compute the absolute and relative changes in the record counts for HARPs that still have records."
   ]
  },
  {
   "cell_type": "code",
   "execution_count": 11,
   "metadata": {},
   "outputs": [],
   "source": [
    "all_rec_counts = all_rec_counts[all_rec_counts[\"new_rec_count\"] > 0]\n",
    "all_rec_counts[\"diff\"] = all_rec_counts[\"orig_rec_count\"] - \\\n",
    "    all_rec_counts[\"new_rec_count\"]\n",
    "all_rec_counts[\"rel_diff\"] = all_rec_counts[\"diff\"] / \\\n",
    "    all_rec_counts[\"orig_rec_count\"]"
   ]
  },
  {
   "cell_type": "markdown",
   "metadata": {},
   "source": [
    "Below is a histogram of the relative differences; for the vast majority of HARPs, the relative difference is close to zero."
   ]
  },
  {
   "cell_type": "code",
   "execution_count": 12,
   "metadata": {},
   "outputs": [
    {
     "data": {
      "image/png": "[encoded data removed]"
     },
     "metadata": {
      "image/png": {
       "height": 480,
       "width": 640
      }
     },
     "output_type": "display_data"
    }
   ],
   "source": [
    "(\n",
    "    ggplot(all_rec_counts, aes(\"rel_diff\")) +\n",
    "    geom_histogram(binwidth=0.01) +\n",
    "    labs(x=\"Relative Difference\", y=\"Number of HARPs\") +\n",
    "    theme_bw()\n",
    ")"
   ]
  },
  {
   "cell_type": "markdown",
   "metadata": {},
   "source": [
    "Below are the HARPs with the largest relative differences."
   ]
  },
  {
   "cell_type": "code",
   "execution_count": 13,
   "metadata": {},
   "outputs": [
    {
     "data": {
      "application/vnd.microsoft.datawrangler.viewer.v0+json": {
       "columns": [
        {
         "name": "index",
         "rawType": "int64",
         "type": "integer"
        },
        {
         "name": "HARPNUM",
         "rawType": "Int64",
         "type": "integer"
        },
        {
         "name": "orig_rec_count",
         "rawType": "int64",
         "type": "integer"
        },
        {
         "name": "new_rec_count",
         "rawType": "int64",
         "type": "integer"
        },
        {
         "name": "diff",
         "rawType": "int64",
         "type": "integer"
        },
        {
         "name": "rel_diff",
         "rawType": "float64",
         "type": "float"
        }
       ],
       "ref": "9c2da067-4506-47c1-94d0-81efd32a1c05",
       "rows": [
        [
         "3549",
         "6603",
         "1073",
         "25",
         "1048",
         "0.9767008387698043"
        ],
        [
         "809",
         "1486",
         "21",
         "1",
         "20",
         "0.9523809523809523"
        ],
        [
         "3552",
         "6607",
         "1111",
         "135",
         "976",
         "0.8784878487848785"
        ],
        [
         "1474",
         "2703",
         "344",
         "106",
         "238",
         "0.6918604651162791"
        ],
        [
         "3651",
         "6779",
         "868",
         "339",
         "529",
         "0.6094470046082949"
        ],
        [
         "3849",
         "7110",
         "1259",
         "588",
         "671",
         "0.5329626687847498"
        ],
        [
         "1470",
         "2693",
         "1225",
         "606",
         "619",
         "0.5053061224489795"
        ],
        [
         "2307",
         "4292",
         "15",
         "9",
         "6",
         "0.4"
        ],
        [
         "3655",
         "6784",
         "476",
         "300",
         "176",
         "0.3697478991596639"
        ],
        [
         "3971",
         "7299",
         "1100",
         "713",
         "387",
         "0.3518181818181818"
        ]
       ],
       "shape": {
        "columns": 5,
        "rows": 10
       }
      },
      "text/html": [
       "<div>\n",
       "<style scoped>\n",
       "    .dataframe tbody tr th:only-of-type {\n",
       "        vertical-align: middle;\n",
       "    }\n",
       "\n",
       "    .dataframe tbody tr th {\n",
       "        vertical-align: top;\n",
       "    }\n",
       "\n",
       "    .dataframe thead th {\n",
       "        text-align: right;\n",
       "    }\n",
       "</style>\n",
       "<table border=\"1\" class=\"dataframe\">\n",
       "  <thead>\n",
       "    <tr style=\"text-align: right;\">\n",
       "      <th></th>\n",
       "      <th>HARPNUM</th>\n",
       "      <th>orig_rec_count</th>\n",
       "      <th>new_rec_count</th>\n",
       "      <th>diff</th>\n",
       "      <th>rel_diff</th>\n",
       "    </tr>\n",
       "  </thead>\n",
       "  <tbody>\n",
       "    <tr>\n",
       "      <th>3549</th>\n",
       "      <td>6603</td>\n",
       "      <td>1073</td>\n",
       "      <td>25</td>\n",
       "      <td>1048</td>\n",
       "      <td>0.976701</td>\n",
       "    </tr>\n",
       "    <tr>\n",
       "      <th>809</th>\n",
       "      <td>1486</td>\n",
       "      <td>21</td>\n",
       "      <td>1</td>\n",
       "      <td>20</td>\n",
       "      <td>0.952381</td>\n",
       "    </tr>\n",
       "    <tr>\n",
       "      <th>3552</th>\n",
       "      <td>6607</td>\n",
       "      <td>1111</td>\n",
       "      <td>135</td>\n",
       "      <td>976</td>\n",
       "      <td>0.878488</td>\n",
       "    </tr>\n",
       "    <tr>\n",
       "      <th>1474</th>\n",
       "      <td>2703</td>\n",
       "      <td>344</td>\n",
       "      <td>106</td>\n",
       "      <td>238</td>\n",
       "      <td>0.691860</td>\n",
       "    </tr>\n",
       "    <tr>\n",
       "      <th>3651</th>\n",
       "      <td>6779</td>\n",
       "      <td>868</td>\n",
       "      <td>339</td>\n",
       "      <td>529</td>\n",
       "      <td>0.609447</td>\n",
       "    </tr>\n",
       "    <tr>\n",
       "      <th>3849</th>\n",
       "      <td>7110</td>\n",
       "      <td>1259</td>\n",
       "      <td>588</td>\n",
       "      <td>671</td>\n",
       "      <td>0.532963</td>\n",
       "    </tr>\n",
       "    <tr>\n",
       "      <th>1470</th>\n",
       "      <td>2693</td>\n",
       "      <td>1225</td>\n",
       "      <td>606</td>\n",
       "      <td>619</td>\n",
       "      <td>0.505306</td>\n",
       "    </tr>\n",
       "    <tr>\n",
       "      <th>2307</th>\n",
       "      <td>4292</td>\n",
       "      <td>15</td>\n",
       "      <td>9</td>\n",
       "      <td>6</td>\n",
       "      <td>0.400000</td>\n",
       "    </tr>\n",
       "    <tr>\n",
       "      <th>3655</th>\n",
       "      <td>6784</td>\n",
       "      <td>476</td>\n",
       "      <td>300</td>\n",
       "      <td>176</td>\n",
       "      <td>0.369748</td>\n",
       "    </tr>\n",
       "    <tr>\n",
       "      <th>3971</th>\n",
       "      <td>7299</td>\n",
       "      <td>1100</td>\n",
       "      <td>713</td>\n",
       "      <td>387</td>\n",
       "      <td>0.351818</td>\n",
       "    </tr>\n",
       "  </tbody>\n",
       "</table>\n",
       "</div>"
      ],
      "text/plain": [
       "      HARPNUM  orig_rec_count  new_rec_count  diff  rel_diff\n",
       "3549     6603            1073             25  1048  0.976701\n",
       "809      1486              21              1    20  0.952381\n",
       "3552     6607            1111            135   976  0.878488\n",
       "1474     2703             344            106   238  0.691860\n",
       "3651     6779             868            339   529  0.609447\n",
       "3849     7110            1259            588   671  0.532963\n",
       "1470     2693            1225            606   619  0.505306\n",
       "2307     4292              15              9     6  0.400000\n",
       "3655     6784             476            300   176  0.369748\n",
       "3971     7299            1100            713   387  0.351818"
      ]
     },
     "execution_count": 13,
     "metadata": {},
     "output_type": "execute_result"
    }
   ],
   "source": [
    "(\n",
    "    all_rec_counts\n",
    "    .sort_values([\"rel_diff\", \"orig_rec_count\"], ascending=False)\n",
    "    .head(10)\n",
    ")"
   ]
  },
  {
   "cell_type": "markdown",
   "metadata": {},
   "source": [
    "Save the imputed data."
   ]
  },
  {
   "cell_type": "code",
   "execution_count": 14,
   "metadata": {},
   "outputs": [],
   "source": [
    "no_nas_harp_data.to_parquet(\"../../processed/hq_nc70_no_nn.parquet\")"
   ]
  }
 ],
 "metadata": {
  "kernelspec": {
   "display_name": "Python 3",
   "language": "python",
   "name": "python3"
  },
  "language_info": {
   "codemirror_mode": {
    "name": "ipython",
    "version": 3
   },
   "file_extension": ".py",
   "mimetype": "text/x-python",
   "name": "python",
   "nbconvert_exporter": "python",
   "pygments_lexer": "ipython3",
   "version": "3.9.21"
  }
 },
 "nbformat": 4,
 "nbformat_minor": 2
}
