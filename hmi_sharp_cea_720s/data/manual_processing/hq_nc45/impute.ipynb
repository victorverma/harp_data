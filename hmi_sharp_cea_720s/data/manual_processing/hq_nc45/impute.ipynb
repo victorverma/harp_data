{
 "cells": [
  {
   "cell_type": "code",
   "execution_count": 1,
   "metadata": {},
   "outputs": [
    {
     "name": "stdout",
     "output_type": "stream",
     "text": [
      "Intel MKL WARNING: Support of Intel(R) Streaming SIMD Extensions 4.2 (Intel(R) SSE4.2) enabled only processors has been deprecated. Intel oneAPI Math Kernel Library 2025.0 will require Intel(R) Advanced Vector Extensions (Intel(R) AVX) instructions.\n",
      "Intel MKL WARNING: Support of Intel(R) Streaming SIMD Extensions 4.2 (Intel(R) SSE4.2) enabled only processors has been deprecated. Intel oneAPI Math Kernel Library 2025.0 will require Intel(R) Advanced Vector Extensions (Intel(R) AVX) instructions.\n"
     ]
    }
   ],
   "source": [
    "import numpy as np\n",
    "import pandas as pd\n",
    "from plotnine import *"
   ]
  },
  {
   "cell_type": "markdown",
   "metadata": {},
   "source": [
    "In this notebook, we use linear interpolation to fill in missing values in the HARP data."
   ]
  },
  {
   "cell_type": "code",
   "execution_count": 2,
   "metadata": {},
   "outputs": [
    {
     "data": {
      "application/vnd.microsoft.datawrangler.viewer.v0+json": {
       "columns": [
        {
         "name": "index",
         "rawType": "int64",
         "type": "integer"
        },
        {
         "name": "HARPNUM",
         "rawType": "Int64",
         "type": "integer"
        },
        {
         "name": "T_REC",
         "rawType": "datetime64[ns, UTC]",
         "type": "unknown"
        },
        {
         "name": "USFLUX",
         "rawType": "float64",
         "type": "float"
        },
        {
         "name": "MEANGAM",
         "rawType": "float64",
         "type": "float"
        },
        {
         "name": "MEANGBT",
         "rawType": "float64",
         "type": "float"
        },
        {
         "name": "MEANGBZ",
         "rawType": "float64",
         "type": "float"
        },
        {
         "name": "MEANGBH",
         "rawType": "float64",
         "type": "float"
        },
        {
         "name": "MEANJZD",
         "rawType": "float64",
         "type": "float"
        },
        {
         "name": "TOTUSJZ",
         "rawType": "float64",
         "type": "float"
        },
        {
         "name": "MEANALP",
         "rawType": "float64",
         "type": "float"
        },
        {
         "name": "MEANJZH",
         "rawType": "float64",
         "type": "float"
        },
        {
         "name": "TOTUSJH",
         "rawType": "float64",
         "type": "float"
        },
        {
         "name": "ABSNJZH",
         "rawType": "float64",
         "type": "float"
        },
        {
         "name": "SAVNCPP",
         "rawType": "float64",
         "type": "float"
        },
        {
         "name": "MEANPOT",
         "rawType": "float64",
         "type": "float"
        },
        {
         "name": "TOTPOT",
         "rawType": "float64",
         "type": "float"
        },
        {
         "name": "MEANSHR",
         "rawType": "float64",
         "type": "float"
        },
        {
         "name": "SHRGT45",
         "rawType": "float64",
         "type": "float"
        },
        {
         "name": "CRLN_OBS",
         "rawType": "float64",
         "type": "float"
        },
        {
         "name": "CRLT_OBS",
         "rawType": "float64",
         "type": "float"
        },
        {
         "name": "CAR_ROT",
         "rawType": "Int64",
         "type": "integer"
        },
        {
         "name": "QUALITY",
         "rawType": "Int64",
         "type": "integer"
        },
        {
         "name": "QUAL_S",
         "rawType": "Int64",
         "type": "integer"
        },
        {
         "name": "QUALLEV1",
         "rawType": "Int64",
         "type": "integer"
        },
        {
         "name": "HISTORY",
         "rawType": "object",
         "type": "string"
        },
        {
         "name": "COMMENT",
         "rawType": "object",
         "type": "string"
        },
        {
         "name": "H_MERGE",
         "rawType": "Int64",
         "type": "integer"
        },
        {
         "name": "H_FAINT",
         "rawType": "Int64",
         "type": "integer"
        },
        {
         "name": "NPIX",
         "rawType": "float64",
         "type": "float"
        },
        {
         "name": "SIZE",
         "rawType": "float64",
         "type": "float"
        },
        {
         "name": "AREA",
         "rawType": "float64",
         "type": "float"
        },
        {
         "name": "NACR",
         "rawType": "float64",
         "type": "float"
        },
        {
         "name": "SIZE_ACR",
         "rawType": "float64",
         "type": "float"
        },
        {
         "name": "AREA_ACR",
         "rawType": "float64",
         "type": "float"
        },
        {
         "name": "LAT_MIN",
         "rawType": "float64",
         "type": "float"
        },
        {
         "name": "LON_MIN",
         "rawType": "float64",
         "type": "float"
        },
        {
         "name": "LAT_MAX",
         "rawType": "float64",
         "type": "float"
        },
        {
         "name": "LON_MAX",
         "rawType": "float64",
         "type": "float"
        },
        {
         "name": "LAT_FWT",
         "rawType": "float64",
         "type": "float"
        },
        {
         "name": "LON_FWT",
         "rawType": "float64",
         "type": "float"
        },
        {
         "name": "LAT_FWTPOS",
         "rawType": "float64",
         "type": "float"
        },
        {
         "name": "LON_FWTPOS",
         "rawType": "float64",
         "type": "float"
        },
        {
         "name": "LAT_FWTNEG",
         "rawType": "float64",
         "type": "float"
        },
        {
         "name": "LON_FWTNEG",
         "rawType": "float64",
         "type": "float"
        },
        {
         "name": "T_FRST1",
         "rawType": "datetime64[ns, UTC]",
         "type": "unknown"
        },
        {
         "name": "T_LAST1",
         "rawType": "datetime64[ns, UTC]",
         "type": "unknown"
        },
        {
         "name": "NOAA_AR",
         "rawType": "Int64",
         "type": "integer"
        },
        {
         "name": "NOAA_NUM",
         "rawType": "Int64",
         "type": "integer"
        },
        {
         "name": "NOAA_ARS",
         "rawType": "object",
         "type": "string"
        }
       ],
       "ref": "13584bd0-681c-4f10-8c51-f3c0d8bc1440",
       "rows": [
        [
         "0",
         "1",
         "2010-05-03 12:00:00+00:00",
         null,
         null,
         null,
         null,
         null,
         null,
         null,
         null,
         null,
         null,
         null,
         null,
         null,
         null,
         null,
         null,
         "218.23436",
         "-3.922579",
         "2096",
         "65536",
         "65536",
         "0",
         "The following keywords were re-computed on 2014-05-13T21:41:51Z: R_VALUE.\nThe following keywords were re-computed on 2014-01-24T20:06:55Z: TOTPOT,MEANGAM,MEANGBT,MEANGBZ,MEANGBH,MEANALP,SAVNCPP,TOTPOT,MEANJZD,TOTUSJH,MEANSHR,USFLUX.\nThe following keywords were re-computed on 2013-12-20T21:45:43Z: TOTPOT,MEANGAM,MEANGBT,MEANGBZ,MEANGBH,MEANALP,SAVNCPP,TOTPOT,MEANJZD,TOTUSJH,MEANSHR,USFLUX.\n ",
         " ",
         "0",
         "0",
         null,
         null,
         null,
         null,
         null,
         null,
         "20.57995",
         "-51.755997",
         "27.068336",
         "-38.163357",
         "23.682547",
         "-44.94202",
         "23.685436",
         "-46.956467",
         "23.678205",
         "-41.915977",
         "2010-05-01 00:00:00+00:00",
         "2010-05-11 16:12:00+00:00",
         "11067",
         "1",
         "11067"
        ],
        [
         "1",
         "1",
         "2010-05-03 12:12:00+00:00",
         "8.686026e+21",
         "28.152",
         "97.538",
         "97.873",
         "38.581",
         "-0.123163",
         "9409921000000.0",
         "0.00899216",
         "0.00282295",
         "449.588",
         "37.198",
         "2041309000000.0",
         "2155.446",
         "3.771953e+22",
         "23.697",
         "2.694",
         "218.124512",
         "-3.92198",
         "2096",
         "0",
         "0",
         "0",
         " ",
         " ",
         "0",
         "0",
         "38288.0",
         "3420.809326",
         "2780.563232",
         "3325.0",
         "297.069336",
         "241.483231",
         "20.57954",
         "-51.650108",
         "27.062168",
         "-38.052536",
         "23.688623",
         "-44.846657",
         "23.693647",
         "-46.879101",
         "23.68108",
         "-41.794441",
         "2010-05-01 00:00:00+00:00",
         "2010-05-11 16:12:00+00:00",
         "11067",
         "1",
         "11067"
        ],
        [
         "2",
         "1",
         "2010-05-03 12:24:00+00:00",
         "8.641597e+21",
         "28.168",
         "97.812",
         "97.998",
         "39.104",
         "-0.07716479",
         "9362115000000.0",
         "0.00854651",
         "0.00268266",
         "449.351",
         "35.111",
         "1678207000000.0",
         "2206.364",
         "3.835272e+22",
         "23.846",
         "3.285",
         "218.014648",
         "-3.921417",
         "2096",
         "0",
         "0",
         "0",
         " ",
         " ",
         "0",
         "0",
         "38402.0",
         "3430.948242",
         "2783.640869",
         "3343.0",
         "298.673492",
         "242.388824",
         "20.579565",
         "-51.551971",
         "27.062103",
         "-37.936661",
         "23.706158",
         "-44.752796",
         "23.707405",
         "-46.787418",
         "23.704281",
         "-41.692467",
         "2010-05-01 00:00:00+00:00",
         "2010-05-11 16:12:00+00:00",
         "11067",
         "1",
         "11067"
        ],
        [
         "3",
         "1",
         "2010-05-03 12:36:00+00:00",
         "8.535292e+21",
         "28.194",
         "98.665",
         "98.945",
         "39.24",
         "-0.05812918",
         "9173249000000.0",
         "0.00739422",
         "0.0023561",
         "441.548",
         "30.219",
         "1427000000000.0",
         "2225.474",
         "3.790762e+22",
         "23.825",
         "3.236",
         "217.904755",
         "-3.920885",
         "2096",
         "0",
         "0",
         "0",
         " ",
         " ",
         "0",
         "0",
         "38513.0",
         "3440.791748",
         "2786.118408",
         "3382.0",
         "302.151428",
         "244.610184",
         "20.584076",
         "-51.462376",
         "27.058744",
         "-37.80917",
         "23.707127",
         "-44.626957",
         "23.705408",
         "-46.678677",
         "23.709671",
         "-41.589588",
         "2010-05-01 00:00:00+00:00",
         "2010-05-11 16:12:00+00:00",
         "11067",
         "1",
         "11067"
        ],
        [
         "4",
         "1",
         "2010-05-03 12:48:00+00:00",
         "8.616025e+21",
         "28.276",
         "99.358",
         "99.494",
         "39.614",
         "-0.06603581",
         "9383016000000.0",
         "0.00849234",
         "0.00269092",
         "449.066",
         "34.952",
         "1642616000000.0",
         "2220.722",
         "3.830739e+22",
         "23.879",
         "3.272",
         "217.79483",
         "-3.920385",
         "2096",
         "0",
         "0",
         "0",
         " ",
         " ",
         "0",
         "0",
         "38803.0",
         "3466.61377",
         "2802.395264",
         "3398.0",
         "303.573273",
         "245.587219",
         "20.593174",
         "-51.41069",
         "27.079239",
         "-37.692028",
         "23.70746",
         "-44.568352",
         "23.713186",
         "-46.605503",
         "23.698771",
         "-41.476963",
         "2010-05-01 00:00:00+00:00",
         "2010-05-11 16:12:00+00:00",
         "11067",
         "1",
         "11067"
        ]
       ],
       "shape": {
        "columns": 49,
        "rows": 5
       }
      },
      "text/html": [
       "<div>\n",
       "<style scoped>\n",
       "    .dataframe tbody tr th:only-of-type {\n",
       "        vertical-align: middle;\n",
       "    }\n",
       "\n",
       "    .dataframe tbody tr th {\n",
       "        vertical-align: top;\n",
       "    }\n",
       "\n",
       "    .dataframe thead th {\n",
       "        text-align: right;\n",
       "    }\n",
       "</style>\n",
       "<table border=\"1\" class=\"dataframe\">\n",
       "  <thead>\n",
       "    <tr style=\"text-align: right;\">\n",
       "      <th></th>\n",
       "      <th>HARPNUM</th>\n",
       "      <th>T_REC</th>\n",
       "      <th>USFLUX</th>\n",
       "      <th>MEANGAM</th>\n",
       "      <th>MEANGBT</th>\n",
       "      <th>MEANGBZ</th>\n",
       "      <th>MEANGBH</th>\n",
       "      <th>MEANJZD</th>\n",
       "      <th>TOTUSJZ</th>\n",
       "      <th>MEANALP</th>\n",
       "      <th>...</th>\n",
       "      <th>LON_FWT</th>\n",
       "      <th>LAT_FWTPOS</th>\n",
       "      <th>LON_FWTPOS</th>\n",
       "      <th>LAT_FWTNEG</th>\n",
       "      <th>LON_FWTNEG</th>\n",
       "      <th>T_FRST1</th>\n",
       "      <th>T_LAST1</th>\n",
       "      <th>NOAA_AR</th>\n",
       "      <th>NOAA_NUM</th>\n",
       "      <th>NOAA_ARS</th>\n",
       "    </tr>\n",
       "  </thead>\n",
       "  <tbody>\n",
       "    <tr>\n",
       "      <th>0</th>\n",
       "      <td>1</td>\n",
       "      <td>2010-05-03 12:00:00+00:00</td>\n",
       "      <td>NaN</td>\n",
       "      <td>NaN</td>\n",
       "      <td>NaN</td>\n",
       "      <td>NaN</td>\n",
       "      <td>NaN</td>\n",
       "      <td>NaN</td>\n",
       "      <td>NaN</td>\n",
       "      <td>NaN</td>\n",
       "      <td>...</td>\n",
       "      <td>-44.942020</td>\n",
       "      <td>23.685436</td>\n",
       "      <td>-46.956467</td>\n",
       "      <td>23.678205</td>\n",
       "      <td>-41.915977</td>\n",
       "      <td>2010-05-01 00:00:00+00:00</td>\n",
       "      <td>2010-05-11 16:12:00+00:00</td>\n",
       "      <td>11067</td>\n",
       "      <td>1</td>\n",
       "      <td>11067</td>\n",
       "    </tr>\n",
       "    <tr>\n",
       "      <th>1</th>\n",
       "      <td>1</td>\n",
       "      <td>2010-05-03 12:12:00+00:00</td>\n",
       "      <td>8.686026e+21</td>\n",
       "      <td>28.152</td>\n",
       "      <td>97.538</td>\n",
       "      <td>97.873</td>\n",
       "      <td>38.581</td>\n",
       "      <td>-0.123163</td>\n",
       "      <td>9.409921e+12</td>\n",
       "      <td>0.008992</td>\n",
       "      <td>...</td>\n",
       "      <td>-44.846657</td>\n",
       "      <td>23.693647</td>\n",
       "      <td>-46.879101</td>\n",
       "      <td>23.681080</td>\n",
       "      <td>-41.794441</td>\n",
       "      <td>2010-05-01 00:00:00+00:00</td>\n",
       "      <td>2010-05-11 16:12:00+00:00</td>\n",
       "      <td>11067</td>\n",
       "      <td>1</td>\n",
       "      <td>11067</td>\n",
       "    </tr>\n",
       "    <tr>\n",
       "      <th>2</th>\n",
       "      <td>1</td>\n",
       "      <td>2010-05-03 12:24:00+00:00</td>\n",
       "      <td>8.641597e+21</td>\n",
       "      <td>28.168</td>\n",
       "      <td>97.812</td>\n",
       "      <td>97.998</td>\n",
       "      <td>39.104</td>\n",
       "      <td>-0.077165</td>\n",
       "      <td>9.362115e+12</td>\n",
       "      <td>0.008547</td>\n",
       "      <td>...</td>\n",
       "      <td>-44.752796</td>\n",
       "      <td>23.707405</td>\n",
       "      <td>-46.787418</td>\n",
       "      <td>23.704281</td>\n",
       "      <td>-41.692467</td>\n",
       "      <td>2010-05-01 00:00:00+00:00</td>\n",
       "      <td>2010-05-11 16:12:00+00:00</td>\n",
       "      <td>11067</td>\n",
       "      <td>1</td>\n",
       "      <td>11067</td>\n",
       "    </tr>\n",
       "    <tr>\n",
       "      <th>3</th>\n",
       "      <td>1</td>\n",
       "      <td>2010-05-03 12:36:00+00:00</td>\n",
       "      <td>8.535292e+21</td>\n",
       "      <td>28.194</td>\n",
       "      <td>98.665</td>\n",
       "      <td>98.945</td>\n",
       "      <td>39.240</td>\n",
       "      <td>-0.058129</td>\n",
       "      <td>9.173249e+12</td>\n",
       "      <td>0.007394</td>\n",
       "      <td>...</td>\n",
       "      <td>-44.626957</td>\n",
       "      <td>23.705408</td>\n",
       "      <td>-46.678677</td>\n",
       "      <td>23.709671</td>\n",
       "      <td>-41.589588</td>\n",
       "      <td>2010-05-01 00:00:00+00:00</td>\n",
       "      <td>2010-05-11 16:12:00+00:00</td>\n",
       "      <td>11067</td>\n",
       "      <td>1</td>\n",
       "      <td>11067</td>\n",
       "    </tr>\n",
       "    <tr>\n",
       "      <th>4</th>\n",
       "      <td>1</td>\n",
       "      <td>2010-05-03 12:48:00+00:00</td>\n",
       "      <td>8.616025e+21</td>\n",
       "      <td>28.276</td>\n",
       "      <td>99.358</td>\n",
       "      <td>99.494</td>\n",
       "      <td>39.614</td>\n",
       "      <td>-0.066036</td>\n",
       "      <td>9.383016e+12</td>\n",
       "      <td>0.008492</td>\n",
       "      <td>...</td>\n",
       "      <td>-44.568352</td>\n",
       "      <td>23.713186</td>\n",
       "      <td>-46.605503</td>\n",
       "      <td>23.698771</td>\n",
       "      <td>-41.476963</td>\n",
       "      <td>2010-05-01 00:00:00+00:00</td>\n",
       "      <td>2010-05-11 16:12:00+00:00</td>\n",
       "      <td>11067</td>\n",
       "      <td>1</td>\n",
       "      <td>11067</td>\n",
       "    </tr>\n",
       "  </tbody>\n",
       "</table>\n",
       "<p>5 rows × 49 columns</p>\n",
       "</div>"
      ],
      "text/plain": [
       "   HARPNUM                     T_REC        USFLUX  MEANGAM  MEANGBT  MEANGBZ  \\\n",
       "0        1 2010-05-03 12:00:00+00:00           NaN      NaN      NaN      NaN   \n",
       "1        1 2010-05-03 12:12:00+00:00  8.686026e+21   28.152   97.538   97.873   \n",
       "2        1 2010-05-03 12:24:00+00:00  8.641597e+21   28.168   97.812   97.998   \n",
       "3        1 2010-05-03 12:36:00+00:00  8.535292e+21   28.194   98.665   98.945   \n",
       "4        1 2010-05-03 12:48:00+00:00  8.616025e+21   28.276   99.358   99.494   \n",
       "\n",
       "   MEANGBH   MEANJZD       TOTUSJZ   MEANALP  ...    LON_FWT  LAT_FWTPOS  \\\n",
       "0      NaN       NaN           NaN       NaN  ... -44.942020   23.685436   \n",
       "1   38.581 -0.123163  9.409921e+12  0.008992  ... -44.846657   23.693647   \n",
       "2   39.104 -0.077165  9.362115e+12  0.008547  ... -44.752796   23.707405   \n",
       "3   39.240 -0.058129  9.173249e+12  0.007394  ... -44.626957   23.705408   \n",
       "4   39.614 -0.066036  9.383016e+12  0.008492  ... -44.568352   23.713186   \n",
       "\n",
       "   LON_FWTPOS  LAT_FWTNEG  LON_FWTNEG                   T_FRST1  \\\n",
       "0  -46.956467   23.678205  -41.915977 2010-05-01 00:00:00+00:00   \n",
       "1  -46.879101   23.681080  -41.794441 2010-05-01 00:00:00+00:00   \n",
       "2  -46.787418   23.704281  -41.692467 2010-05-01 00:00:00+00:00   \n",
       "3  -46.678677   23.709671  -41.589588 2010-05-01 00:00:00+00:00   \n",
       "4  -46.605503   23.698771  -41.476963 2010-05-01 00:00:00+00:00   \n",
       "\n",
       "                    T_LAST1  NOAA_AR  NOAA_NUM  NOAA_ARS  \n",
       "0 2010-05-11 16:12:00+00:00    11067         1     11067  \n",
       "1 2010-05-11 16:12:00+00:00    11067         1     11067  \n",
       "2 2010-05-11 16:12:00+00:00    11067         1     11067  \n",
       "3 2010-05-11 16:12:00+00:00    11067         1     11067  \n",
       "4 2010-05-11 16:12:00+00:00    11067         1     11067  \n",
       "\n",
       "[5 rows x 49 columns]"
      ]
     },
     "execution_count": 2,
     "metadata": {},
     "output_type": "execute_result"
    }
   ],
   "source": [
    "harp_data = pd.read_parquet(\"../../processed/hq_nc45_no.parquet\")\n",
    "harp_data.head()"
   ]
  },
  {
   "cell_type": "markdown",
   "metadata": {},
   "source": [
    "We will fill in missing values in the columns listed below."
   ]
  },
  {
   "cell_type": "code",
   "execution_count": 3,
   "metadata": {},
   "outputs": [],
   "source": [
    "all_predictors = [\n",
    "    # SHARP parameters\n",
    "    \"USFLUX\", \"MEANGAM\", \"MEANGBT\", \"MEANGBZ\", \"MEANGBH\", \"MEANJZD\", \"TOTUSJZ\",\n",
    "    \"MEANALP\", \"MEANJZH\", \"TOTUSJH\", \"ABSNJZH\", \"SAVNCPP\", \"MEANPOT\", \"TOTPOT\",\n",
    "    \"MEANSHR\", \"SHRGT45\",\n",
    "    # Patch areas and pixel counts\n",
    "    \"NPIX\", \"SIZE\", \"AREA\", \"NACR\", \"SIZE_ACR\", \"AREA_ACR\"\n",
    "]"
   ]
  },
  {
   "cell_type": "code",
   "execution_count": 4,
   "metadata": {},
   "outputs": [],
   "source": [
    "no_nas_harp_data = harp_data.copy()\n",
    "no_nas_harp_data[all_predictors] = (\n",
    "    harp_data\n",
    "    .groupby(\"HARPNUM\")[all_predictors]\n",
    "    .apply(lambda df: df.interpolate())\n",
    "    .reset_index(drop=True)\n",
    ")"
   ]
  },
  {
   "cell_type": "markdown",
   "metadata": {},
   "source": [
    "We next separately number records for each HARP, e.g., the `m` records for the first HARP are numbered `0, ..., m - 1`, the `n` records for the second HARP are numbered `0, ..., n - 1`, etc. We also flag records for which at least one predictor still has a missing value. Because of how linear interpolation works, for each HARP, records that are still missing values should be in runs at the start or end."
   ]
  },
  {
   "cell_type": "code",
   "execution_count": 5,
   "metadata": {},
   "outputs": [],
   "source": [
    "no_nas_harp_data[\"index_in_harp\"] = (\n",
    "    no_nas_harp_data.groupby(\"HARPNUM\").cumcount()\n",
    ")\n",
    "no_nas_harp_data[\"are_any_predictors_na\"] = (\n",
    "    no_nas_harp_data[all_predictors].isna().any(axis=1)\n",
    ")"
   ]
  },
  {
   "cell_type": "markdown",
   "metadata": {},
   "source": [
    "The code below verifies that records with missing values are in runs at the start or end. If a record with missing values were in the middle, then the indices of some two complete records would differ by more than one."
   ]
  },
  {
   "cell_type": "code",
   "execution_count": 6,
   "metadata": {},
   "outputs": [
    {
     "data": {
      "text/plain": [
       "False"
      ]
     },
     "execution_count": 6,
     "metadata": {},
     "output_type": "execute_result"
    }
   ],
   "source": [
    "(\n",
    "    no_nas_harp_data\n",
    "    .groupby(\"HARPNUM\")[[\"index_in_harp\", \"are_any_predictors_na\"]]\n",
    "    .apply(lambda df: (df.loc[~df[\"are_any_predictors_na\"], \"index_in_harp\"].diff() > 1).any())\n",
    "    .any()\n",
    ")"
   ]
  },
  {
   "cell_type": "markdown",
   "metadata": {},
   "source": [
    "For the sake of simplicity, we discard records that still have missing values. We also drop columns that are no longer needed."
   ]
  },
  {
   "cell_type": "code",
   "execution_count": 7,
   "metadata": {},
   "outputs": [],
   "source": [
    "no_nas_harp_data = (\n",
    "    no_nas_harp_data[~no_nas_harp_data[\"are_any_predictors_na\"]]\n",
    "    .drop(columns=[\"index_in_harp\", \"are_any_predictors_na\"])\n",
    ")"
   ]
  },
  {
   "cell_type": "markdown",
   "metadata": {},
   "source": [
    "We count records by HARP using both the original data and the new data."
   ]
  },
  {
   "cell_type": "code",
   "execution_count": 8,
   "metadata": {},
   "outputs": [],
   "source": [
    "orig_rec_counts = harp_data.groupby(\"HARPNUM\").size()\n",
    "new_rec_counts = no_nas_harp_data.groupby(\"HARPNUM\").size()\n",
    "all_rec_counts = (\n",
    "    pd.DataFrame({\n",
    "        \"orig_rec_count\": orig_rec_counts, \"new_rec_count\": new_rec_counts\n",
    "    }).reset_index()\n",
    ")\n",
    "all_rec_counts[\"new_rec_count\"] = (\n",
    "    all_rec_counts[\"new_rec_count\"].replace(np.nan, 0).astype(\"int\")\n",
    ")"
   ]
  },
  {
   "cell_type": "markdown",
   "metadata": {},
   "source": [
    "A number of HARPs no longer have any records in the data."
   ]
  },
  {
   "cell_type": "code",
   "execution_count": 9,
   "metadata": {},
   "outputs": [
    {
     "data": {
      "application/vnd.microsoft.datawrangler.viewer.v0+json": {
       "columns": [
        {
         "name": "index",
         "rawType": "int64",
         "type": "integer"
        },
        {
         "name": "HARPNUM",
         "rawType": "Int64",
         "type": "integer"
        },
        {
         "name": "orig_rec_count",
         "rawType": "int64",
         "type": "integer"
        },
        {
         "name": "new_rec_count",
         "rawType": "int64",
         "type": "integer"
        }
       ],
       "ref": "bd1d1226-3dfa-4b68-a8a7-6fd60f76a0de",
       "rows": [
        [
         "3472",
         "6810",
         "875",
         "0"
        ],
        [
         "3486",
         "6829",
         "864",
         "0"
        ],
        [
         "3333",
         "6537",
         "863",
         "0"
        ],
        [
         "3403",
         "6670",
         "855",
         "0"
        ],
        [
         "3493",
         "6838",
         "846",
         "0"
        ],
        [
         "3320",
         "6510",
         "844",
         "0"
        ],
        [
         "3327",
         "6523",
         "842",
         "0"
        ],
        [
         "3361",
         "6599",
         "840",
         "0"
        ],
        [
         "3538",
         "6910",
         "839",
         "0"
        ],
        [
         "3438",
         "6731",
         "839",
         "0"
        ],
        [
         "3457",
         "6769",
         "839",
         "0"
        ],
        [
         "3441",
         "6737",
         "838",
         "0"
        ],
        [
         "3338",
         "6550",
         "838",
         "0"
        ],
        [
         "3540",
         "6915",
         "838",
         "0"
        ],
        [
         "3454",
         "6759",
         "838",
         "0"
        ],
        [
         "3360",
         "6598",
         "836",
         "0"
        ],
        [
         "3366",
         "6607",
         "836",
         "0"
        ],
        [
         "3566",
         "6961",
         "831",
         "0"
        ],
        [
         "3373",
         "6617",
         "830",
         "0"
        ],
        [
         "3504",
         "6863",
         "829",
         "0"
        ],
        [
         "3508",
         "6869",
         "829",
         "0"
        ],
        [
         "3639",
         "7100",
         "827",
         "0"
        ],
        [
         "3466",
         "6794",
         "827",
         "0"
        ],
        [
         "3345",
         "6566",
         "827",
         "0"
        ],
        [
         "3324",
         "6517",
         "827",
         "0"
        ],
        [
         "3388",
         "6648",
         "827",
         "0"
        ],
        [
         "3442",
         "6739",
         "826",
         "0"
        ],
        [
         "3401",
         "6666",
         "826",
         "0"
        ],
        [
         "3431",
         "6715",
         "825",
         "0"
        ],
        [
         "3465",
         "6789",
         "824",
         "0"
        ],
        [
         "3559",
         "6950",
         "823",
         "0"
        ],
        [
         "3426",
         "6703",
         "822",
         "0"
        ],
        [
         "3363",
         "6603",
         "820",
         "0"
        ],
        [
         "3561",
         "6952",
         "819",
         "0"
        ],
        [
         "3390",
         "6653",
         "819",
         "0"
        ],
        [
         "3369",
         "6613",
         "818",
         "0"
        ],
        [
         "3348",
         "6576",
         "818",
         "0"
        ],
        [
         "3471",
         "6806",
         "817",
         "0"
        ],
        [
         "3425",
         "6699",
         "817",
         "0"
        ],
        [
         "3470",
         "6804",
         "816",
         "0"
        ],
        [
         "3484",
         "6826",
         "815",
         "0"
        ],
        [
         "3352",
         "6585",
         "814",
         "0"
        ],
        [
         "3375",
         "6620",
         "813",
         "0"
        ],
        [
         "3382",
         "6632",
         "813",
         "0"
        ],
        [
         "3500",
         "6846",
         "813",
         "0"
        ],
        [
         "3557",
         "6946",
         "812",
         "0"
        ],
        [
         "3362",
         "6601",
         "812",
         "0"
        ],
        [
         "3468",
         "6798",
         "812",
         "0"
        ],
        [
         "3415",
         "6686",
         "812",
         "0"
        ],
        [
         "3342",
         "6558",
         "812",
         "0"
        ]
       ],
       "shape": {
        "columns": 3,
        "rows": 262
       }
      },
      "text/html": [
       "<div>\n",
       "<style scoped>\n",
       "    .dataframe tbody tr th:only-of-type {\n",
       "        vertical-align: middle;\n",
       "    }\n",
       "\n",
       "    .dataframe tbody tr th {\n",
       "        vertical-align: top;\n",
       "    }\n",
       "\n",
       "    .dataframe thead th {\n",
       "        text-align: right;\n",
       "    }\n",
       "</style>\n",
       "<table border=\"1\" class=\"dataframe\">\n",
       "  <thead>\n",
       "    <tr style=\"text-align: right;\">\n",
       "      <th></th>\n",
       "      <th>HARPNUM</th>\n",
       "      <th>orig_rec_count</th>\n",
       "      <th>new_rec_count</th>\n",
       "    </tr>\n",
       "  </thead>\n",
       "  <tbody>\n",
       "    <tr>\n",
       "      <th>3472</th>\n",
       "      <td>6810</td>\n",
       "      <td>875</td>\n",
       "      <td>0</td>\n",
       "    </tr>\n",
       "    <tr>\n",
       "      <th>3486</th>\n",
       "      <td>6829</td>\n",
       "      <td>864</td>\n",
       "      <td>0</td>\n",
       "    </tr>\n",
       "    <tr>\n",
       "      <th>3333</th>\n",
       "      <td>6537</td>\n",
       "      <td>863</td>\n",
       "      <td>0</td>\n",
       "    </tr>\n",
       "    <tr>\n",
       "      <th>3403</th>\n",
       "      <td>6670</td>\n",
       "      <td>855</td>\n",
       "      <td>0</td>\n",
       "    </tr>\n",
       "    <tr>\n",
       "      <th>3493</th>\n",
       "      <td>6838</td>\n",
       "      <td>846</td>\n",
       "      <td>0</td>\n",
       "    </tr>\n",
       "    <tr>\n",
       "      <th>...</th>\n",
       "      <td>...</td>\n",
       "      <td>...</td>\n",
       "      <td>...</td>\n",
       "    </tr>\n",
       "    <tr>\n",
       "      <th>3322</th>\n",
       "      <td>6513</td>\n",
       "      <td>12</td>\n",
       "      <td>0</td>\n",
       "    </tr>\n",
       "    <tr>\n",
       "      <th>5464</th>\n",
       "      <td>10468</td>\n",
       "      <td>8</td>\n",
       "      <td>0</td>\n",
       "    </tr>\n",
       "    <tr>\n",
       "      <th>3428</th>\n",
       "      <td>6710</td>\n",
       "      <td>6</td>\n",
       "      <td>0</td>\n",
       "    </tr>\n",
       "    <tr>\n",
       "      <th>3549</th>\n",
       "      <td>6935</td>\n",
       "      <td>6</td>\n",
       "      <td>0</td>\n",
       "    </tr>\n",
       "    <tr>\n",
       "      <th>3393</th>\n",
       "      <td>6656</td>\n",
       "      <td>2</td>\n",
       "      <td>0</td>\n",
       "    </tr>\n",
       "  </tbody>\n",
       "</table>\n",
       "<p>262 rows × 3 columns</p>\n",
       "</div>"
      ],
      "text/plain": [
       "      HARPNUM  orig_rec_count  new_rec_count\n",
       "3472     6810             875              0\n",
       "3486     6829             864              0\n",
       "3333     6537             863              0\n",
       "3403     6670             855              0\n",
       "3493     6838             846              0\n",
       "...       ...             ...            ...\n",
       "3322     6513              12              0\n",
       "5464    10468               8              0\n",
       "3428     6710               6              0\n",
       "3549     6935               6              0\n",
       "3393     6656               2              0\n",
       "\n",
       "[262 rows x 3 columns]"
      ]
     },
     "execution_count": 9,
     "metadata": {},
     "output_type": "execute_result"
    }
   ],
   "source": [
    "all_rec_counts[\n",
    "    all_rec_counts[\"new_rec_count\"] == 0\n",
    "].sort_values(\"orig_rec_count\", ascending=False)"
   ]
  },
  {
   "cell_type": "markdown",
   "metadata": {},
   "source": [
    "For the HARPs that don't have any records in the new dataset, virtually all of their records in the original dataset are of low quality."
   ]
  },
  {
   "cell_type": "code",
   "execution_count": 10,
   "metadata": {},
   "outputs": [
    {
     "data": {
      "application/vnd.microsoft.datawrangler.viewer.v0+json": {
       "columns": [
        {
         "name": "QUALITY",
         "rawType": "Int64",
         "type": "integer"
        },
        {
         "name": "count",
         "rawType": "Int64",
         "type": "integer"
        }
       ],
       "ref": "1dd6015c-34d7-4ad4-ad52-bd0bf2e47aeb",
       "rows": [
        [
         "128",
         "122184"
        ],
        [
         "65664",
         "2872"
        ],
        [
         "4224",
         "1226"
        ],
        [
         "32",
         "350"
        ],
        [
         "72832",
         "230"
        ],
        [
         "66688",
         "187"
        ],
        [
         "1152",
         "149"
        ],
        [
         "69760",
         "79"
        ],
        [
         "68736",
         "63"
        ],
        [
         "8320",
         "28"
        ],
        [
         "70784",
         "19"
        ],
        [
         "66592",
         "16"
        ],
        [
         "5248",
         "10"
        ],
        [
         "1056",
         "6"
        ],
        [
         "67616",
         "4"
        ],
        [
         "66560",
         "2"
        ],
        [
         "67584",
         "2"
        ],
        [
         "0",
         "2"
        ],
        [
         "74880",
         "1"
        ],
        [
         "1024",
         "1"
        ]
       ],
       "shape": {
        "columns": 1,
        "rows": 20
       }
      },
      "text/plain": [
       "QUALITY\n",
       "128      122184\n",
       "65664      2872\n",
       "4224       1226\n",
       "32          350\n",
       "72832       230\n",
       "66688       187\n",
       "1152        149\n",
       "69760        79\n",
       "68736        63\n",
       "8320         28\n",
       "70784        19\n",
       "66592        16\n",
       "5248         10\n",
       "1056          6\n",
       "67616         4\n",
       "66560         2\n",
       "67584         2\n",
       "0             2\n",
       "74880         1\n",
       "1024          1\n",
       "Name: count, dtype: Int64"
      ]
     },
     "execution_count": 10,
     "metadata": {},
     "output_type": "execute_result"
    }
   ],
   "source": [
    "no_recs_harps = all_rec_counts.loc[\n",
    "    all_rec_counts[\"new_rec_count\"] == 0, \"HARPNUM\"\n",
    "]\n",
    "harp_data.loc[\n",
    "    harp_data[\"HARPNUM\"].isin(no_recs_harps), \"QUALITY\"\n",
    "].value_counts()"
   ]
  },
  {
   "cell_type": "markdown",
   "metadata": {},
   "source": [
    "We compute the absolute and relative changes in the record counts for HARPs that still have records."
   ]
  },
  {
   "cell_type": "code",
   "execution_count": 11,
   "metadata": {},
   "outputs": [],
   "source": [
    "all_rec_counts = all_rec_counts[all_rec_counts[\"new_rec_count\"] > 0]\n",
    "all_rec_counts[\"diff\"] = all_rec_counts[\"orig_rec_count\"] - \\\n",
    "    all_rec_counts[\"new_rec_count\"]\n",
    "all_rec_counts[\"rel_diff\"] = all_rec_counts[\"diff\"] / \\\n",
    "    all_rec_counts[\"orig_rec_count\"]"
   ]
  },
  {
   "cell_type": "markdown",
   "metadata": {},
   "source": [
    "Below is a histogram of the relative differences; for the vast majority of HARPs, the relative difference is close to zero."
   ]
  },
  {
   "cell_type": "code",
   "execution_count": 12,
   "metadata": {},
   "outputs": [
    {
     "data": {
      "image/png": "[encoded data removed]"
     },
     "metadata": {
      "image/png": {
       "height": 480,
       "width": 640
      }
     },
     "output_type": "display_data"
    }
   ],
   "source": [
    "(\n",
    "    ggplot(all_rec_counts, aes(\"rel_diff\")) +\n",
    "    geom_histogram(binwidth=0.01) +\n",
    "    labs(x=\"Relative Difference\", y=\"Number of HARPs\") +\n",
    "    theme_bw()\n",
    ")"
   ]
  },
  {
   "cell_type": "markdown",
   "metadata": {},
   "source": [
    "Below are the HARPs with the largest relative differences."
   ]
  },
  {
   "cell_type": "code",
   "execution_count": 13,
   "metadata": {},
   "outputs": [
    {
     "data": {
      "application/vnd.microsoft.datawrangler.viewer.v0+json": {
       "columns": [
        {
         "name": "index",
         "rawType": "int64",
         "type": "integer"
        },
        {
         "name": "HARPNUM",
         "rawType": "Int64",
         "type": "integer"
        },
        {
         "name": "orig_rec_count",
         "rawType": "int64",
         "type": "integer"
        },
        {
         "name": "new_rec_count",
         "rawType": "int64",
         "type": "integer"
        },
        {
         "name": "diff",
         "rawType": "int64",
         "type": "integer"
        },
        {
         "name": "rel_diff",
         "rawType": "float64",
         "type": "float"
        }
       ],
       "ref": "11de4c9e-0d1d-42f0-895b-ae5b09de874b",
       "rows": [
        [
         "770",
         "1486",
         "21",
         "1",
         "20",
         "0.9523809523809523"
        ],
        [
         "1392",
         "2691",
         "778",
         "110",
         "668",
         "0.8586118251928021"
        ],
        [
         "1390",
         "2685",
         "864",
         "257",
         "607",
         "0.7025462962962963"
        ],
        [
         "1396",
         "2703",
         "344",
         "106",
         "238",
         "0.6918604651162791"
        ],
        [
         "3459",
         "6779",
         "775",
         "339",
         "436",
         "0.5625806451612904"
        ],
        [
         "3644",
         "7110",
         "806",
         "356",
         "450",
         "0.5583126550868487"
        ],
        [
         "3371",
         "6615",
         "230",
         "118",
         "112",
         "0.48695652173913045"
        ],
        [
         "1394",
         "2693",
         "813",
         "422",
         "391",
         "0.48093480934809346"
        ],
        [
         "2182",
         "4292",
         "15",
         "9",
         "6",
         "0.4"
        ],
        [
         "3463",
         "6784",
         "476",
         "300",
         "176",
         "0.3697478991596639"
        ]
       ],
       "shape": {
        "columns": 5,
        "rows": 10
       }
      },
      "text/html": [
       "<div>\n",
       "<style scoped>\n",
       "    .dataframe tbody tr th:only-of-type {\n",
       "        vertical-align: middle;\n",
       "    }\n",
       "\n",
       "    .dataframe tbody tr th {\n",
       "        vertical-align: top;\n",
       "    }\n",
       "\n",
       "    .dataframe thead th {\n",
       "        text-align: right;\n",
       "    }\n",
       "</style>\n",
       "<table border=\"1\" class=\"dataframe\">\n",
       "  <thead>\n",
       "    <tr style=\"text-align: right;\">\n",
       "      <th></th>\n",
       "      <th>HARPNUM</th>\n",
       "      <th>orig_rec_count</th>\n",
       "      <th>new_rec_count</th>\n",
       "      <th>diff</th>\n",
       "      <th>rel_diff</th>\n",
       "    </tr>\n",
       "  </thead>\n",
       "  <tbody>\n",
       "    <tr>\n",
       "      <th>770</th>\n",
       "      <td>1486</td>\n",
       "      <td>21</td>\n",
       "      <td>1</td>\n",
       "      <td>20</td>\n",
       "      <td>0.952381</td>\n",
       "    </tr>\n",
       "    <tr>\n",
       "      <th>1392</th>\n",
       "      <td>2691</td>\n",
       "      <td>778</td>\n",
       "      <td>110</td>\n",
       "      <td>668</td>\n",
       "      <td>0.858612</td>\n",
       "    </tr>\n",
       "    <tr>\n",
       "      <th>1390</th>\n",
       "      <td>2685</td>\n",
       "      <td>864</td>\n",
       "      <td>257</td>\n",
       "      <td>607</td>\n",
       "      <td>0.702546</td>\n",
       "    </tr>\n",
       "    <tr>\n",
       "      <th>1396</th>\n",
       "      <td>2703</td>\n",
       "      <td>344</td>\n",
       "      <td>106</td>\n",
       "      <td>238</td>\n",
       "      <td>0.691860</td>\n",
       "    </tr>\n",
       "    <tr>\n",
       "      <th>3459</th>\n",
       "      <td>6779</td>\n",
       "      <td>775</td>\n",
       "      <td>339</td>\n",
       "      <td>436</td>\n",
       "      <td>0.562581</td>\n",
       "    </tr>\n",
       "    <tr>\n",
       "      <th>3644</th>\n",
       "      <td>7110</td>\n",
       "      <td>806</td>\n",
       "      <td>356</td>\n",
       "      <td>450</td>\n",
       "      <td>0.558313</td>\n",
       "    </tr>\n",
       "    <tr>\n",
       "      <th>3371</th>\n",
       "      <td>6615</td>\n",
       "      <td>230</td>\n",
       "      <td>118</td>\n",
       "      <td>112</td>\n",
       "      <td>0.486957</td>\n",
       "    </tr>\n",
       "    <tr>\n",
       "      <th>1394</th>\n",
       "      <td>2693</td>\n",
       "      <td>813</td>\n",
       "      <td>422</td>\n",
       "      <td>391</td>\n",
       "      <td>0.480935</td>\n",
       "    </tr>\n",
       "    <tr>\n",
       "      <th>2182</th>\n",
       "      <td>4292</td>\n",
       "      <td>15</td>\n",
       "      <td>9</td>\n",
       "      <td>6</td>\n",
       "      <td>0.400000</td>\n",
       "    </tr>\n",
       "    <tr>\n",
       "      <th>3463</th>\n",
       "      <td>6784</td>\n",
       "      <td>476</td>\n",
       "      <td>300</td>\n",
       "      <td>176</td>\n",
       "      <td>0.369748</td>\n",
       "    </tr>\n",
       "  </tbody>\n",
       "</table>\n",
       "</div>"
      ],
      "text/plain": [
       "      HARPNUM  orig_rec_count  new_rec_count  diff  rel_diff\n",
       "770      1486              21              1    20  0.952381\n",
       "1392     2691             778            110   668  0.858612\n",
       "1390     2685             864            257   607  0.702546\n",
       "1396     2703             344            106   238  0.691860\n",
       "3459     6779             775            339   436  0.562581\n",
       "3644     7110             806            356   450  0.558313\n",
       "3371     6615             230            118   112  0.486957\n",
       "1394     2693             813            422   391  0.480935\n",
       "2182     4292              15              9     6  0.400000\n",
       "3463     6784             476            300   176  0.369748"
      ]
     },
     "execution_count": 13,
     "metadata": {},
     "output_type": "execute_result"
    }
   ],
   "source": [
    "(\n",
    "    all_rec_counts\n",
    "    .sort_values([\"rel_diff\", \"orig_rec_count\"], ascending=False)\n",
    "    .head(10)\n",
    ")"
   ]
  },
  {
   "cell_type": "markdown",
   "metadata": {},
   "source": [
    "Save the imputed data."
   ]
  },
  {
   "cell_type": "code",
   "execution_count": 14,
   "metadata": {},
   "outputs": [],
   "source": [
    "no_nas_harp_data.to_parquet(\"../../processed/hq_nc45_no_nn.parquet\")"
   ]
  }
 ],
 "metadata": {
  "kernelspec": {
   "display_name": "Python 3",
   "language": "python",
   "name": "python3"
  },
  "language_info": {
   "codemirror_mode": {
    "name": "ipython",
    "version": 3
   },
   "file_extension": ".py",
   "mimetype": "text/x-python",
   "name": "python",
   "nbconvert_exporter": "python",
   "pygments_lexer": "ipython3",
   "version": "3.9.21"
  }
 },
 "nbformat": 4,
 "nbformat_minor": 2
}
